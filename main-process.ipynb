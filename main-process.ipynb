{
 "cells": [
  {
   "cell_type": "code",
   "execution_count": 16,
   "metadata": {},
   "outputs": [],
   "source": [
    "import pandas as pd\n",
    "from sqlalchemy import create_engine\n",
    "from datetime import datetime"
   ]
  },
  {
   "cell_type": "code",
   "execution_count": 6,
   "metadata": {},
   "outputs": [],
   "source": [
    "canada_rate_file = \"Resources/Exchangerates_Canada.csv\"\n",
    "china_rate_file = \"Resources/Exchangerates_China.csv\"\n",
    "euro_rate_file = \"Resources/Exchangerates_Euro.csv\"\n",
    "hongkong_rate_file = \"Resources/Exchangerates_HongKong.csv\"\n",
    "india_rate_file = \"Resources/Exchangerates_India.csv\"\n",
    "japan_rate_file = \"Resources/Exchangerates_Japan.csv\"\n",
    "korea_rate_file = \"Resources/Exchangerates_Korea.csv\"\n",
    "southafrica_rate_file = \"Resources/Exchangerates_SouthAfrica.csv\"\n",
    "swiss_rate_file = \"Resources/Exchangerates_Swiss.csv\"\n",
    "\n",
    "index_data_file = \"Resources/indexData.csv\"\n",
    "info_data_file = \"Resources/infoData.csv\""
   ]
  },
  {
   "cell_type": "code",
   "execution_count": 7,
   "metadata": {},
   "outputs": [],
   "source": [
    "canada_df = pd.read_csv(canada_rate_file)\n",
    "china_df = pd.read_csv(china_rate_file)\n",
    "euro_df = pd.read_csv(euro_rate_file)\n",
    "hongkong_df = pd.read_csv(hongkong_rate_file)\n",
    "india_df = pd.read_csv(india_rate_file)\n",
    "japan_df = pd.read_csv(japan_rate_file)\n",
    "korea_df = pd.read_csv(korea_rate_file)\n",
    "southafrica_df = pd.read_csv(southafrica_rate_file)\n",
    "swiss_df = pd.read_csv(swiss_rate_file)\n",
    "\n",
    "data_df = pd.read_csv(index_data_file)\n",
    "info_df = pd.read_csv(info_data_file)\n"
   ]
  },
  {
   "cell_type": "code",
   "execution_count": 46,
   "metadata": {},
   "outputs": [
    {
     "data": {
      "text/plain": [
       "70478"
      ]
     },
     "execution_count": 46,
     "metadata": {},
     "output_type": "execute_result"
    }
   ],
   "source": [
    "# keep only stock exchange data from year 2000 and later\n",
    "data_df = data_df.loc[data_df['Date']>= '2000-01-01']\n",
    "\n",
    "# daterange.head()\n",
    "len(data_df)"
   ]
  },
  {
   "cell_type": "code",
   "execution_count": 48,
   "metadata": {},
   "outputs": [
    {
     "data": {
      "text/plain": [
       "69540"
      ]
     },
     "execution_count": 48,
     "metadata": {},
     "output_type": "execute_result"
    }
   ],
   "source": [
    "#drop rows with null values\n",
    "data_df.dropna(inplace=True)\n",
    "len(data_df)"
   ]
  },
  {
   "cell_type": "code",
   "execution_count": 24,
   "metadata": {},
   "outputs": [],
   "source": [
    "#convert date column string from exchnage rate data frames into date objects to macth data_df\n",
    "\n",
    "canada_df['Date']= pd.to_datetime(canada_df['Date'])\n",
    "china_df['Date']= pd.to_datetime(china_df['Date'])\n",
    "euro_df['Date']= pd.to_datetime(euro_df['Date'])\n",
    "hongkong_df['Date']= pd.to_datetime(hongkong_df['Date'])\n",
    "india_df['Date']= pd.to_datetime(india_df['Date'])\n",
    "japan_df['Date']= pd.to_datetime(japan_df['Date'])\n",
    "korea_df['Date']= pd.to_datetime(korea_df['Date'])\n",
    "southafrica_df['Date']= pd.to_datetime(southafrica_df['Date'])\n",
    "swiss_df['Date']= pd.to_datetime(swiss_df['Date'])"
   ]
  },
  {
   "cell_type": "code",
   "execution_count": 32,
   "metadata": {},
   "outputs": [
    {
     "data": {
      "text/html": [
       "<div>\n",
       "<style scoped>\n",
       "    .dataframe tbody tr th:only-of-type {\n",
       "        vertical-align: middle;\n",
       "    }\n",
       "\n",
       "    .dataframe tbody tr th {\n",
       "        vertical-align: top;\n",
       "    }\n",
       "\n",
       "    .dataframe thead th {\n",
       "        text-align: right;\n",
       "    }\n",
       "</style>\n",
       "<table border=\"1\" class=\"dataframe\">\n",
       "  <thead>\n",
       "    <tr style=\"text-align: right;\">\n",
       "      <th></th>\n",
       "      <th>Date</th>\n",
       "      <th>USD</th>\n",
       "      <th>CHF</th>\n",
       "      <th>Currency</th>\n",
       "    </tr>\n",
       "  </thead>\n",
       "  <tbody>\n",
       "    <tr>\n",
       "      <th>0</th>\n",
       "      <td>2021-09-02</td>\n",
       "      <td>1</td>\n",
       "      <td>0.9158</td>\n",
       "      <td>CHF</td>\n",
       "    </tr>\n",
       "    <tr>\n",
       "      <th>1</th>\n",
       "      <td>2021-09-01</td>\n",
       "      <td>1</td>\n",
       "      <td>0.9177</td>\n",
       "      <td>CHF</td>\n",
       "    </tr>\n",
       "    <tr>\n",
       "      <th>2</th>\n",
       "      <td>2021-08-31</td>\n",
       "      <td>1</td>\n",
       "      <td>0.9125</td>\n",
       "      <td>CHF</td>\n",
       "    </tr>\n",
       "    <tr>\n",
       "      <th>3</th>\n",
       "      <td>2021-08-30</td>\n",
       "      <td>1</td>\n",
       "      <td>0.9150</td>\n",
       "      <td>CHF</td>\n",
       "    </tr>\n",
       "    <tr>\n",
       "      <th>4</th>\n",
       "      <td>2021-08-29</td>\n",
       "      <td>1</td>\n",
       "      <td>0.9179</td>\n",
       "      <td>CHF</td>\n",
       "    </tr>\n",
       "  </tbody>\n",
       "</table>\n",
       "</div>"
      ],
      "text/plain": [
       "        Date  USD     CHF Currency\n",
       "0 2021-09-02    1  0.9158      CHF\n",
       "1 2021-09-01    1  0.9177      CHF\n",
       "2 2021-08-31    1  0.9125      CHF\n",
       "3 2021-08-30    1  0.9150      CHF\n",
       "4 2021-08-29    1  0.9179      CHF"
      ]
     },
     "execution_count": 32,
     "metadata": {},
     "output_type": "execute_result"
    }
   ],
   "source": [
    "#add column for currency type to merge on later\n",
    "canada_df['Currency']= 'CAD'\n",
    "china_df['Currency']= 'CNY'\n",
    "euro_df['Currency']= 'EUR'\n",
    "hongkong_df['Currency']= 'HKD'\n",
    "india_df['Currency']= 'INR'\n",
    "japan_df['Currency']= 'JPY'\n",
    "korea_df['Currency']= 'KRW'\n",
    "southafrica_df['Currency']= 'ZAR'\n",
    "swiss_df['Currency']= 'CHF'"
   ]
  },
  {
   "cell_type": "code",
   "execution_count": 37,
   "metadata": {},
   "outputs": [],
   "source": [
    "#rename columns\n",
    "canada_df.rename(columns = {'CAD':'exchange_rate'}, inplace = True)\n",
    "china_df.rename(columns = {'CNY':'exchange_rate'}, inplace = True)\n",
    "euro_df.rename(columns = {'EUR':'exchange_rate'}, inplace = True)\n",
    "hongkong_df.rename(columns = {'HKD':'exchange_rate'}, inplace = True)\n",
    "india_df.rename(columns = {'INR':'exchange_rate'}, inplace = True)\n",
    "japan_df.rename(columns = {'JPY':'exchange_rate'}, inplace = True)\n",
    "korea_df.rename(columns = {'KRW':'exchange_rate'}, inplace = True)\n",
    "southafrica_df.rename(columns = {'ZAR':'exchange_rate'}, inplace = True)\n",
    "swiss_df.rename(columns = {'CHF':'exchange_rate'}, inplace = True)"
   ]
  },
  {
   "cell_type": "code",
   "execution_count": null,
   "metadata": {},
   "outputs": [],
   "source": []
  },
  {
   "cell_type": "code",
   "execution_count": null,
   "metadata": {},
   "outputs": [],
   "source": [
    "# Load Data\n",
    "# import password\n",
    "from config import password\n",
    "connection_string = f\"postgres:{password}@localhost:5432/stockexchange_db\"\n",
    "engine = create_engine(f'postgresql://{connection_string}')"
   ]
  },
  {
   "cell_type": "code",
   "execution_count": null,
   "metadata": {},
   "outputs": [],
   "source": [
    "data_df.to_sql(name='stock_data', con=engine, if_exists='append', index=False)"
   ]
  },
  {
   "cell_type": "code",
   "execution_count": null,
   "metadata": {},
   "outputs": [],
   "source": [
    "pd.read_sql_query('select * from stock_data', con=engine).head()"
   ]
  }
 ],
 "metadata": {
  "kernelspec": {
   "display_name": "Python 3",
   "language": "python",
   "name": "python3"
  },
  "language_info": {
   "codemirror_mode": {
    "name": "ipython",
    "version": 3
   },
   "file_extension": ".py",
   "mimetype": "text/x-python",
   "name": "python",
   "nbconvert_exporter": "python",
   "pygments_lexer": "ipython3",
   "version": "3.8.5"
  }
 },
 "nbformat": 4,
 "nbformat_minor": 5
}
