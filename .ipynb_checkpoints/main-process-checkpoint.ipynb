{
 "cells": [
  {
   "cell_type": "code",
   "execution_count": null,
   "id": "890fff84",
   "metadata": {},
   "outputs": [],
   "source": [
    "import pandas as pd\n",
    "from sqlalchemy import create_engine"
   ]
  },
  {
   "cell_type": "code",
   "execution_count": null,
   "id": "b376c1b5",
   "metadata": {},
   "outputs": [],
   "source": [
    "canada_rate_file = \"../Resources/Exchangerate_Canada.csv\"\n",
    "china_rate_file = \"../Resources/Exchangerate_China.csv\"\n",
    "euro_rate_file = \"../Resources/Exchangerate_Euro.csv\"\n",
    "hongkong_rate_file = \"../Resources/Exchangerate_HongKong.csv\"\n",
    "india_rate_file = \"../Resources/Exchangerate_India.csv\"\n",
    "japan_rate_file = \"../Resources/Exchangerate_Japan.csv\"\n",
    "korea_rate_file = \"../Resources/Exchangerate_Korea.csv\"\n",
    "southafrica_rate_file = \"../Resources/Exchangerate_SouthAfrica.csv\"\n",
    "swiss_rate_file = \"../Resources/Exchangerate_Swiss.csv\"\n",
    "\n",
    "index_data_file = \"../Resources/indexData.csv\"\n",
    "info_data_file = \"../Resources/infoData.csv\""
   ]
  },
  {
   "cell_type": "code",
   "execution_count": null,
   "id": "64be6b9a",
   "metadata": {},
   "outputs": [],
   "source": [
    "canada_df = pd.read_csv(canada_rate_file)\n",
    "china_df = pd.read_csv(china_rate_file)\n",
    "euro_df = pd.read_csv(euro_rate_file)\n",
    "hongkong_df = pd.read_csv(hongkong_rate_file)\n",
    "india_df = pd.read_csv(india_rate_file)\n",
    "japan_df = pd.read_csv(japan_rate_file)\n",
    "korea_df = pd.read_csv(korea_rate_file)\n",
    "southafrica_df = pd.read_csv(southafrica_rate_file)\n",
    "swiss_df = pd.read_csv(swiss_rate_file)\n",
    "\n",
    "data_df = pd.read_csv(index_data_file)\n",
    "info_df = pd.read_csv(info_data_file)\n"
   ]
  },
  {
   "cell_type": "code",
   "execution_count": null,
   "id": "9429ab73",
   "metadata": {},
   "outputs": [],
   "source": [
    "# Transform Data"
   ]
  },
  {
   "cell_type": "code",
   "execution_count": null,
   "id": "19c7236a",
   "metadata": {},
   "outputs": [],
   "source": [
    "# Load Data\n",
    "# import password\n",
    "from config import password\n",
    "connection_string = f\"postgres:{password}@localhost:5432/stockexchange_db\"\n",
    "engine = create_engine(f'postgresql://{connection_string}')"
   ]
  },
  {
   "cell_type": "code",
   "execution_count": null,
   "id": "3dec3e8d",
   "metadata": {},
   "outputs": [],
   "source": [
    "data_df.to_sql(name='stock_data', con=engine, if_exists='append', index=False)"
   ]
  },
  {
   "cell_type": "code",
   "execution_count": null,
   "id": "d2b67abe",
   "metadata": {},
   "outputs": [],
   "source": [
    "pd.read_sql_query('select * from stock_data', con=engine).head()"
   ]
  }
 ],
 "metadata": {
  "kernelspec": {
   "display_name": "Python 3",
   "language": "python",
   "name": "python3"
  },
  "language_info": {
   "codemirror_mode": {
    "name": "ipython",
    "version": 3
   },
   "file_extension": ".py",
   "mimetype": "text/x-python",
   "name": "python",
   "nbconvert_exporter": "python",
   "pygments_lexer": "ipython3",
   "version": "3.7.10"
  }
 },
 "nbformat": 4,
 "nbformat_minor": 5
}
